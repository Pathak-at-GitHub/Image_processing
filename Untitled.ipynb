{
 "cells": [
  {
   "cell_type": "code",
   "execution_count": null,
   "id": "c23f4303",
   "metadata": {},
   "outputs": [],
   "source": [
    "!conda install numba & conda install cudatoolkit"
   ]
  },
  {
   "cell_type": "code",
   "execution_count": null,
   "id": "b3fb99ce",
   "metadata": {},
   "outputs": [],
   "source": [
    "from numba import jit, cuda\n",
    "import numpy as np\n",
    "# to measure exec time\n",
    "from timeit import default_timer as timer\n",
    "\n",
    "# normal function to run on cpu\n",
    "def func(a):\t\t\t\t\t\t\t\t\n",
    "\tfor i in range(10000000):\n",
    "\t\ta[i]+= 1\t\n",
    "\n",
    "# function optimized to run on gpu\n",
    "@jit(target_backend='cuda')\t\t\t\t\t\t\n",
    "def func2(a):\n",
    "\tfor i in range(10000000):\n",
    "\t\ta[i]+= 1\n",
    "if __name__==\"__main__\":\n",
    "\tn = 10000000\t\t\t\t\t\t\t\n",
    "\ta = np.ones(n, dtype = np.float64)\n",
    "\t\n",
    "\tstart = timer()\n",
    "\tfunc(a)\n",
    "\tprint(\"without GPU:\", timer()-start)\t\n",
    "\t\n",
    "\tstart = timer()\n",
    "\tfunc2(a)\n",
    "\tprint(\"with GPU:\", timer()-start)\n"
   ]
  },
  {
   "cell_type": "code",
   "execution_count": 1,
   "id": "74ab8d3f",
   "metadata": {},
   "outputs": [
    {
     "name": "stdout",
     "output_type": "stream",
     "text": [
      "[name: \"/device:CPU:0\"\n",
      "device_type: \"CPU\"\n",
      "memory_limit: 268435456\n",
      "locality {\n",
      "}\n",
      "incarnation: 12031606308920358019\n",
      "xla_global_id: -1\n",
      "]\n"
     ]
    }
   ],
   "source": [
    "from tensorflow.python.client import device_lib\n",
    "print(device_lib.list_local_devices())"
   ]
  },
  {
   "cell_type": "code",
   "execution_count": null,
   "id": "8423ea48",
   "metadata": {},
   "outputs": [],
   "source": []
  }
 ],
 "metadata": {
  "kernelspec": {
   "display_name": "Python 3 (ipykernel)",
   "language": "python",
   "name": "python3"
  },
  "language_info": {
   "codemirror_mode": {
    "name": "ipython",
    "version": 3
   },
   "file_extension": ".py",
   "mimetype": "text/x-python",
   "name": "python",
   "nbconvert_exporter": "python",
   "pygments_lexer": "ipython3",
   "version": "3.9.7"
  }
 },
 "nbformat": 4,
 "nbformat_minor": 5
}
